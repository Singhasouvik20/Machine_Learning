{
 "cells": [
  {
   "cell_type": "markdown",
   "metadata": {},
   "source": [
    "### Instructions_1\n",
    "* Store the second row ('Instagram', 0.0, 'USD', 2161558, 4.5) as a list in a variable named row_2.\n",
    "* Store the third row ('Clash of Clans', 0.0, 'USD', 2130805, 4.5) as a list in a variable named row_3."
   ]
  },
  {
   "cell_type": "code",
   "execution_count": 2,
   "metadata": {},
   "outputs": [],
   "source": [
    "row_2 = ['Instagram', 0.0, 'USD', 2161558, 4.5]\n",
    "print = row_2\n",
    "row_3 = ['Clash of Clans', 0.0, 'USD', 2130805, 4.5]\n",
    "print = row_3"
   ]
  },
  {
   "cell_type": "markdown",
   "metadata": {},
   "source": [
    "### Instructions_2\n",
    "In the code editor, you can already see the lists for the first three rows.\n",
    "\n",
    "The fourth element in each list describes the number of ratings an app has received. Retrieve this fourth element from each list, and then find the average value of the retrieved numbers.\n",
    "\n",
    "* Assign the fourth element from the list row_1 to a variable named ratings_1. Don't forget that the indexing starts at 0.\n",
    "* Assign the fourth element from the list row_2 to a variable named ratings_2.\n",
    "* Assign the fourth element from the list row_3 to a variable named ratings_3.\n",
    "* Add the three numbers retrieved together and save the sum to a variable named total.\n",
    "* Divide the sum (now saved in the variable total) by 3 to get the average number of ratings for the first three rows. Assign     the result to a variable named average."
   ]
  },
  {
   "cell_type": "code",
   "execution_count": 3,
   "metadata": {},
   "outputs": [],
   "source": [
    "row_1 = ['Facebook', 0.0, 'USD', 2974676, 3.5]\n",
    "row_2 = ['Instagram', 0.0, 'USD', 2161558, 4.5]\n",
    "row_3 = ['Clash of Clans', 0.0, 'USD', 2130805, 4.5]\n",
    "ratings_1 = row_1[3]\n",
    "ratings_2 = row_2[3]\n",
    "ratings_3 = row_3[3]\n",
    "         \n",
    "total = ratings_1 + ratings_2 + ratings_3\n",
    "average = total / 3"
   ]
  },
  {
   "cell_type": "markdown",
   "metadata": {},
   "source": [
    "### Instructions_3\n",
    "The last element in each list shows the average rating of each application.\n",
    "\n",
    "Retrieve the ratings for the first three rows, and then find the average value of all the ratings retrieved\n",
    "\n",
    "* Assign the last element from the list row_1 to a variable named rating_1. Try to take advantage of negative indexing.\n",
    "* Assign the last element from the list row_2 to a variable named rating_2.\n",
    "* Assign the last element from the list row_3 to a variable named rating_3.\n",
    "* Add the three ratings together and save the sum to a variable named total_rating.\n",
    "* Divide the total by 3 to get the average rating. Assign the result to a variable named average_rating."
   ]
  },
  {
   "cell_type": "code",
   "execution_count": 4,
   "metadata": {},
   "outputs": [],
   "source": [
    "row_1 = ['Facebook', 0.0, 'USD', 2974676, 3.5]\n",
    "row_2 = ['Instagram', 0.0, 'USD', 2161558, 4.5]\n",
    "row_3 = ['Clash of Clans', 0.0, 'USD', 2130805, 4.5]\n",
    "rating_1 = row_1[4]\n",
    "rating_2 = row_2[4]\n",
    "rating_3 = row_3[4]\n",
    "total_rating = rating_1 + rating_2 + rating_3\n",
    "average_rating= total_rating / 3"
   ]
  },
  {
   "cell_type": "markdown",
   "metadata": {},
   "source": [
    "### Instructions_4\n",
    "1. For Facebook, Instagram, and Pandora — Music & Radio, isolate the rating data in separate lists. Each list should contain the name of the app, the rating count, and the user rating. Don't forget that indexing starts at 0.\n",
    "  * For Facebook, assign the list to a variable named fb_rating_data.\n",
    "  * For Instagram, assign the list to a variable named insta_rating_data.\n",
    "  * For Pandora — Music & Radio, assign the list to a variable named pandora_rating_data.\n",
    "2. Compute the average rating for Facebook, Instagram, and Pandora — Music & Radio using the data you stored in fb_rating_data, insta_rating_data, and pandora_rating_data. \n",
    "  * You'll need to add the ratings together first, and then divide the total by the number of ratings.\n",
    "  * Assign the result to a variable named avg_rating."
   ]
  },
  {
   "cell_type": "code",
   "execution_count": 5,
   "metadata": {},
   "outputs": [],
   "source": [
    "row_1 = ['Facebook', 0.0, 'USD', 2974676, 3.5]\n",
    "row_2 = ['Instagram', 0.0, 'USD', 2161558, 4.5]\n",
    "row_3 = ['Clash of Clans', 0.0, 'USD', 2130805, 4.5]\n",
    "row_4 = ['Temple Run', 0.0, 'USD', 1724546, 4.5]\n",
    "row_5 = ['Pandora - Music & Radio', 0.0, 'USD', 1126879, 4.0]\n",
    "fb_rating_data = [row_1[0], row_1[3],  row_1[-1]]\n",
    "insta_rating_data = [row_2[0], row_2[3], row_2[4]]\n",
    "pandora_rating_data = [row_5[0], row_5[3], row_5[4]]\n",
    "\n",
    "avg_rating = (fb_rating_data[2] + insta_rating_data[2] + pandora_rating_data[2]) / 3"
   ]
  },
  {
   "cell_type": "markdown",
   "metadata": {},
   "source": [
    "### Instructions_5\n",
    "* Select the first four elements from row_1 using a list slicing syntax shortcut. Assign the output to a variable named first_4_fb.\n",
    "* Select the last three elements from row_1 using a list slicing syntax shortcut. Assign the output to a variable named last_3_fb.\n",
    "* From row_5, select the list slice ['USD', 1126879] using a list slicing syntax shortcut. Assign the output to a variable named pandora_3_4."
   ]
  },
  {
   "cell_type": "code",
   "execution_count": null,
   "metadata": {},
   "outputs": [],
   "source": [
    "row_1 = ['Facebook', 0.0, 'USD', 2974676, 3.5]\n",
    "first_4_fb = row_1[:4]\n",
    "last_3_fb = row_1[-3:]\n",
    "row_5 = ['Pandora - Music & Radio', 0.0, 'USD', 1126879, 4.0]\n",
    "pandora_3_4 = row_5[2:4]\n",
    "print(first_4_fb)\n",
    "print(last_3_fb)\n",
    "print(pandora_3_4)"
   ]
  },
  {
   "cell_type": "markdown",
   "metadata": {},
   "source": [
    "### Instructions_6\n",
    "1. In the code editor, we've already stored the five rows as lists in separate variables. Group together the five lists in a      list of lists. Assign the resulting list of lists to a variable named app_data_set.\n",
    "2. Compute the average rating of the apps by retrieving the right data points from the app_data_set list of lists.\n",
    "   * The rating is the last element of each row. You'll need to sum up the ratings and then divide by the number of ratings.\n",
    "   * Assign the result to a variable named avg_rating."
   ]
  },
  {
   "cell_type": "code",
   "execution_count": null,
   "metadata": {},
   "outputs": [],
   "source": [
    "row_1 = ['Facebook', 0.0, 'USD', 2974676, 3.5]\n",
    "row_2 = ['Instagram', 0.0, 'USD', 2161558, 4.5]\n",
    "row_3 = ['Clash of Clans', 0.0, 'USD', 2130805, 4.5]\n",
    "row_4 = ['Temple Run', 0.0, 'USD', 1724546, 4.5]\n",
    "row_5 = ['Pandora - Music & Radio', 0.0, 'USD', 1126879, 4.0]\n",
    "app_data_set = [row_1, row_2, row_3, row_4, row_5]\n",
    "avg_rating = (app_data_set[0][-1] + app_data_set[1][-1] + app_data_set[2][-1] + app_data_set[3][-1] + app_data_set[4][-1]) / 5"
   ]
  },
  {
   "cell_type": "markdown",
   "metadata": {},
   "source": [
    "### Instructions_7\n",
    "Open the AppleStore.csv file and store it as list of lists.\n",
    "  1. Open the file using the open() command. Save the output to a variable named opened_file.\n",
    "  2. Read in the opened file using the reader() command (we've already imported reader() for you from the csv module). Save the      output to a variable named read_file.\n",
    "  3. Transform the read-in file to a list of lists using the list() command. Save the list of lists to a variable \n",
    "     named apps_data.\n",
    "  4. Explore apps_data. You could:\n",
    "     * Print its length using the len() command\n",
    "     * Print the first row (the row describing column names)\n",
    "     * Print the second and the third row (try to use list slicing here)\n"
   ]
  },
  {
   "cell_type": "code",
   "execution_count": null,
   "metadata": {},
   "outputs": [],
   "source": [
    "from csv import reader\n",
    "opened_file = open('AppleStore.csv')\n",
    "read_file = reader(opened_file)\n",
    "apps_data = list(read_file)\n",
    "len(apps_data)\n",
    "print(apps_data[:0])\n",
    "print(apps_data[1:2])"
   ]
  },
  {
   "cell_type": "markdown",
   "metadata": {},
   "source": [
    "### Instructions_8\n",
    "1. Use the new technique we've learned to print all the rows in the app_data_set list of lists.\n",
    "  * Essentially, you'll need to translate this pattern into Python syntax: for each list in the app_data_set variable, print       that list.\n",
    "  * Don't forget about indentation."
   ]
  },
  {
   "cell_type": "code",
   "execution_count": null,
   "metadata": {},
   "outputs": [],
   "source": [
    "row_1 = ['Facebook', 0.0, 'USD', 2974676, 3.5]\n",
    "row_2 = ['Instagram', 0.0, 'USD', 2161558, 4.5]\n",
    "row_3 = ['Clash of Clans', 0.0, 'USD', 2130805, 4.5]\n",
    "row_4 = ['Temple Run', 0.0, 'USD', 1724546, 4.5]\n",
    "row_5 = ['Pandora - Music & Radio', 0.0, 'USD', 1126879, 4.0]\n",
    "\n",
    "app_data_set = [row_1, row_2, row_3, row_4, row_5]\n",
    "for each_list in app_data_set:\n",
    "    print(each_list)"
   ]
  },
  {
   "cell_type": "markdown",
   "metadata": {},
   "source": [
    "### Instructions_9\n",
    "\n",
    "Compute the average app rating for the apps stored in the app_data_set variable.\n",
    " 1. Initialize a variable named rating_sum with a value of zero outside the loop body.\n",
    " 2. Loop (iterate) over the app_data_set list of lists. For each of the five iterations of the loop (for each row in app_data_set):\n",
    " 3. Extract the rating of the app and store it to a variable named rating. The rating is the last element of each row.\n",
    " 4. Add the value stored in rating to the current value of the rating_sum.\n",
    " 5. Outside the loop body, divide the rating sum (stored in rating_sum) by the number of ratings to get an average value. Store the result in a variable named avg_rating."
   ]
  },
  {
   "cell_type": "code",
   "execution_count": null,
   "metadata": {},
   "outputs": [],
   "source": [
    "row_1 = ['Facebook', 0.0, 'USD', 2974676, 3.5]\n",
    "row_2 = ['Instagram', 0.0, 'USD', 2161558, 4.5]\n",
    "row_3 = ['Clash of Clans', 0.0, 'USD', 2130805, 4.5]\n",
    "row_4 = ['Temple Run', 0.0, 'USD', 1724546, 4.5]\n",
    "row_5 = ['Pandora - Music & Radio', 0.0, 'USD', 1126879, 4.0]\n",
    "\n",
    "app_data_set = [row_1, row_2, row_3, row_4, row_5]\n",
    "rating_sum = 0\n",
    "for row in app_data_set:\n",
    "    rating = row[-1]\n",
    "    rating_sum = rating + rating_sum\n",
    "    print(rating_sum)\n",
    "    avg_rating = rating_sum / len(app_data_set)"
   ]
  }
 ],
 "metadata": {
  "kernelspec": {
   "display_name": "Python 3",
   "language": "python",
   "name": "python3"
  },
  "language_info": {
   "codemirror_mode": {
    "name": "ipython",
    "version": 3
   },
   "file_extension": ".py",
   "mimetype": "text/x-python",
   "name": "python",
   "nbconvert_exporter": "python",
   "pygments_lexer": "ipython3",
   "version": "3.7.1"
  }
 },
 "nbformat": 4,
 "nbformat_minor": 2
}
