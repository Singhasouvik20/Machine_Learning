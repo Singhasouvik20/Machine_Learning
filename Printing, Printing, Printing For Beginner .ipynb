{
 "cells": [
  {
   "cell_type": "markdown",
   "metadata": {},
   "source": [
    "# Printing, Printing, Printing"
   ]
  },
  {
   "cell_type": "code",
   "execution_count": 1,
   "metadata": {},
   "outputs": [
    {
     "name": "stdout",
     "output_type": "stream",
     "text": [
      "Here are the days:  Mon Tue Wed Thu Fri Sat Sun\n",
      "Here are the months:  Jan\n",
      "Feb\n",
      "Mar\n",
      "Apr\n",
      "May\n",
      "Jun\n",
      "Jul\n",
      "Aug\n",
      "\n"
     ]
    }
   ],
   "source": [
    "# Here's some new strange stuff, remember type it exactly.\n",
    "days = \"Mon Tue Wed Thu Fri Sat Sun\"\n",
    "months = \"Jan\\nFeb\\nMar\\nApr\\nMay\\nJun\\nJul\\nAug\"\n",
    "print (\"Here are the days: \", days)\n",
    "print(\"Here are the months: \", months)\n",
    "print (\"\")\n",
    "# There's something going on here.\n",
    "# With the three double- quotes.\n",
    "# We'll be able to type as much as we like.\n",
    "# Even 4 lines if we want, or 5, or 6.\n",
    "# \"\"\""
   ]
  },
  {
   "cell_type": "markdown",
   "metadata": {},
   "source": [
    "## What You Should See"
   ]
  },
  {
   "cell_type": "markdown",
   "metadata": {},
   "source": [
    "-python ex9.py\n",
    "-Here are the days: Mon Tue Wed Thu Fri Sat Sun\n",
    "-Here are the months: Jan\n",
    "-Feb\n",
    "-Mar\n",
    "-Apr\n",
    "-May\n",
    "-Jun\n",
    "-Jul\n",
    "-Aug\n",
    "-There's something going on here.\n",
    "-With the three double- quotes.\n",
    "-We'll be able to type as much as we like.\n",
    "-Even 4 lines if we want, or 5, or 6."
   ]
  },
  {
   "cell_type": "markdown",
   "metadata": {},
   "source": [
    "# Study Drills"
   ]
  },
  {
   "cell_type": "markdown",
   "metadata": {},
   "source": [
    "1. Do your checks of your work, write down your mistakes, and try not to make them on\n",
    "the next exercise."
   ]
  }
 ],
 "metadata": {
  "kernelspec": {
   "display_name": "Python 3",
   "language": "python",
   "name": "python3"
  },
  "language_info": {
   "codemirror_mode": {
    "name": "ipython",
    "version": 3
   },
   "file_extension": ".py",
   "mimetype": "text/x-python",
   "name": "python",
   "nbconvert_exporter": "python",
   "pygments_lexer": "ipython3",
   "version": "3.7.1"
  }
 },
 "nbformat": 4,
 "nbformat_minor": 2
}
