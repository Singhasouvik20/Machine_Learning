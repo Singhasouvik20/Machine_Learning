{
 "cells": [
  {
   "cell_type": "markdown",
   "metadata": {},
   "source": [
    "### 2. Write a user defined function\n",
    "Identify all the prime numbers between 0 - 10,000"
   ]
  },
  {
   "cell_type": "code",
   "execution_count": 8,
   "metadata": {},
   "outputs": [],
   "source": [
    "# Brute force method\n",
    "def getprimes(x):\n",
    "    primes = []\n",
    "    #Loop through x possible prime numbers\n",
    "    for a in range(1, x):\n",
    "        # Loop through every number it could divide by a\n",
    "        for b in range(2, a):\n",
    "            # Does b divide evenly into a ?\n",
    "            if a % b == 0:\n",
    "                break\n",
    "        # Loop exited without breaking (It is prime)\n",
    "        else:\n",
    "            # Add the prime number to our list\n",
    "            primes.append(a)\n",
    "    return primes"
   ]
  },
  {
   "cell_type": "code",
   "execution_count": null,
   "metadata": {},
   "outputs": [],
   "source": [
    "%%timeit\n",
    "prime_list = getprimes(100000)"
   ]
  }
 ],
 "metadata": {
  "kernelspec": {
   "display_name": "Python 3",
   "language": "python",
   "name": "python3"
  },
  "language_info": {
   "codemirror_mode": {
    "name": "ipython",
    "version": 3
   },
   "file_extension": ".py",
   "mimetype": "text/x-python",
   "name": "python",
   "nbconvert_exporter": "python",
   "pygments_lexer": "ipython3",
   "version": "3.7.1"
  }
 },
 "nbformat": 4,
 "nbformat_minor": 2
}
